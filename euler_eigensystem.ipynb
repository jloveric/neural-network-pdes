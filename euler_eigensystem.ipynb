{
 "cells": [
  {
   "cell_type": "code",
   "execution_count": null,
   "id": "65b1f20b",
   "metadata": {},
   "outputs": [],
   "source": []
  },
  {
   "cell_type": "code",
   "execution_count": 1,
   "id": "03c84b08",
   "metadata": {},
   "outputs": [
    {
     "name": "stdout",
     "output_type": "stream",
     "text": [
      "{u - sqrt(p*r*y)/r: 1, u + sqrt(p*r*y)/r: 1, u: 1}\n"
     ]
    }
   ],
   "source": [
    "from sympy import *\n",
    "r = symbols('r')\n",
    "u=symbols('u')\n",
    "p=symbols('p')\n",
    "y = symbols('y')\n",
    "x0=symbols('x0')\n",
    "A = Matrix([[u, r, 0], [0, u, 1/r],[0, y*p, u]])\n",
    "print(A.eigenvals())"
   ]
  },
  {
   "cell_type": "code",
   "execution_count": 26,
   "id": "3d16c5b9",
   "metadata": {},
   "outputs": [
    {
     "data": {
      "text/plain": [
       "[(u,\n",
       "  1,\n",
       "  [Matrix([\n",
       "   [1],\n",
       "   [0],\n",
       "   [0]])]),\n",
       " (u - sqrt(p*r*y)/r,\n",
       "  1,\n",
       "  [Matrix([\n",
       "   [                             r/(p*y)],\n",
       "   [-u/(p*y) + (u - sqrt(p*r*y)/r)/(p*y)],\n",
       "   [                                   1]])]),\n",
       " (u + sqrt(p*r*y)/r,\n",
       "  1,\n",
       "  [Matrix([\n",
       "   [                             r/(p*y)],\n",
       "   [-u/(p*y) + (u + sqrt(p*r*y)/r)/(p*y)],\n",
       "   [                                   1]])])]"
      ]
     },
     "execution_count": 26,
     "metadata": {},
     "output_type": "execute_result"
    }
   ],
   "source": [
    "R = A.eigenvects()   # this returns a tuple for each eigenvector with multiplicity -- unpack it\n",
    "R"
   ]
  },
  {
   "cell_type": "code",
   "execution_count": null,
   "id": "e890bbf2",
   "metadata": {},
   "outputs": [],
   "source": [
    "r = []\n",
    "lam = []\n",
    "for (ev, _, rtmp) in R:\n",
    "    r.append(rtmp[0])\n",
    "    lam.append(ev)\n",
    "    \n",
    "# we can normalize them anyway we want, so let's make the first entry 1\n",
    "for n in range(len(r)):\n",
    "    v = r[n]\n",
    "    r[n] = v/v[0]"
   ]
  },
  {
   "cell_type": "code",
   "execution_count": 8,
   "id": "babd6973",
   "metadata": {},
   "outputs": [],
   "source": [
    "rf=simplify(Matrix.hstack(r[0],r[1],r[2]))"
   ]
  },
  {
   "cell_type": "code",
   "execution_count": 32,
   "id": "abba7431",
   "metadata": {},
   "outputs": [
    {
     "data": {
      "text/latex": [
       "$\\displaystyle \\left[\\begin{matrix}1 & 1 & 1\\\\0 & - \\frac{\\sqrt{p r y}}{r^{2}} & \\frac{\\sqrt{p r y}}{r^{2}}\\\\0 & \\frac{p y}{r} & \\frac{p y}{r}\\end{matrix}\\right]$"
      ],
      "text/plain": [
       "Matrix([\n",
       "[1,                 1,                1],\n",
       "[0, -sqrt(p*r*y)/r**2, sqrt(p*r*y)/r**2],\n",
       "[0,             p*y/r,            p*y/r]])"
      ]
     },
     "execution_count": 32,
     "metadata": {},
     "output_type": "execute_result"
    }
   ],
   "source": [
    "rf"
   ]
  },
  {
   "cell_type": "code",
   "execution_count": 31,
   "id": "ebcdc157",
   "metadata": {},
   "outputs": [
    {
     "data": {
      "text/latex": [
       "$\\displaystyle \\left[\\begin{matrix}1 & 0 & - \\frac{r}{p y}\\\\0 & - \\frac{r \\sqrt{p r y}}{2 p y} & \\frac{r}{2 p y}\\\\0 & \\frac{r^{2}}{2 \\sqrt{p r y}} & \\frac{r}{2 p y}\\end{matrix}\\right]$"
      ],
      "text/plain": [
       "Matrix([\n",
       "[1,                      0,  -r/(p*y)],\n",
       "[0, -r*sqrt(p*r*y)/(2*p*y), r/(2*p*y)],\n",
       "[0,   r**2/(2*sqrt(p*r*y)), r/(2*p*y)]])"
      ]
     },
     "execution_count": 31,
     "metadata": {},
     "output_type": "execute_result"
    }
   ],
   "source": [
    "lff = rf.inverse()\n",
    "lff"
   ]
  },
  {
   "cell_type": "code",
   "execution_count": 30,
   "id": "ce40ea67",
   "metadata": {},
   "outputs": [
    {
     "data": {
      "text/latex": [
       "$\\displaystyle \\left[\\begin{matrix}u & 0 & 0\\\\0 & u - \\frac{\\sqrt{p r y}}{r} & 0\\\\0 & 0 & \\frac{p y}{\\sqrt{p r y}} + u\\end{matrix}\\right]$"
      ],
      "text/plain": [
       "Matrix([\n",
       "[u,                 0,                   0],\n",
       "[0, u - sqrt(p*r*y)/r,                   0],\n",
       "[0,                 0, p*y/sqrt(p*r*y) + u]])"
      ]
     },
     "execution_count": 30,
     "metadata": {},
     "output_type": "execute_result"
    }
   ],
   "source": [
    "simplify(lff*A*rf)"
   ]
  },
  {
   "cell_type": "code",
   "execution_count": null,
   "id": "b1b73d91",
   "metadata": {},
   "outputs": [],
   "source": []
  }
 ],
 "metadata": {
  "kernelspec": {
   "display_name": "Python 3 (ipykernel)",
   "language": "python",
   "name": "python3"
  },
  "language_info": {
   "codemirror_mode": {
    "name": "ipython",
    "version": 3
   },
   "file_extension": ".py",
   "mimetype": "text/x-python",
   "name": "python",
   "nbconvert_exporter": "python",
   "pygments_lexer": "ipython3",
   "version": "3.10.6"
  }
 },
 "nbformat": 4,
 "nbformat_minor": 5
}
