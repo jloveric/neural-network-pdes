{
 "cells": [
  {
   "cell_type": "code",
   "execution_count": null,
   "id": "65b1f20b",
   "metadata": {},
   "outputs": [],
   "source": []
  },
  {
   "cell_type": "code",
   "execution_count": 1,
   "id": "03c84b08",
   "metadata": {},
   "outputs": [
    {
     "name": "stdout",
     "output_type": "stream",
     "text": [
      "{-sqrt(c2) + u: 1, sqrt(c2) + u: 1, u: 1}\n"
     ]
    }
   ],
   "source": [
    "from sympy import *\n",
    "r = symbols('r')\n",
    "u=symbols('u')\n",
    "p=symbols('p')\n",
    "y = symbols('y')\n",
    "x0=symbols('x0')\n",
    "c2=symbols('c2')\n",
    "A = Matrix([[u, r, 0], [0, u, 1/r],[0, y*p, u]]).subs(p,c2*r/y)\n",
    "print(A.eigenvals())"
   ]
  },
  {
   "cell_type": "code",
   "execution_count": 2,
   "id": "3d16c5b9",
   "metadata": {},
   "outputs": [
    {
     "data": {
      "text/plain": [
       "[(u,\n",
       "  1,\n",
       "  [Matrix([\n",
       "   [1],\n",
       "   [0],\n",
       "   [0]])]),\n",
       " (-sqrt(c2) + u,\n",
       "  1,\n",
       "  [Matrix([\n",
       "   [                              1/c2],\n",
       "   [-u/(c2*r) + (-sqrt(c2) + u)/(c2*r)],\n",
       "   [                                 1]])]),\n",
       " (sqrt(c2) + u,\n",
       "  1,\n",
       "  [Matrix([\n",
       "   [                             1/c2],\n",
       "   [-u/(c2*r) + (sqrt(c2) + u)/(c2*r)],\n",
       "   [                                1]])])]"
      ]
     },
     "execution_count": 2,
     "metadata": {},
     "output_type": "execute_result"
    }
   ],
   "source": [
    "R = A.eigenvects()   # this returns a tuple for each eigenvector with multiplicity -- unpack it\n",
    "R"
   ]
  },
  {
   "cell_type": "code",
   "execution_count": 3,
   "id": "e890bbf2",
   "metadata": {},
   "outputs": [],
   "source": [
    "r = []\n",
    "lam = []\n",
    "for (ev, _, rtmp) in R:\n",
    "    r.append(rtmp[0])\n",
    "    lam.append(ev)\n",
    "    \n",
    "# we can normalize them anyway we want, so let's make the first entry 1\n",
    "for n in range(len(r)):\n",
    "    v = r[n]\n",
    "    r[n] = v/v[0]"
   ]
  },
  {
   "cell_type": "code",
   "execution_count": 4,
   "id": "babd6973",
   "metadata": {},
   "outputs": [],
   "source": [
    "rf=simplify(Matrix.hstack(r[0],r[1],r[2]))"
   ]
  },
  {
   "cell_type": "code",
   "execution_count": 5,
   "id": "abba7431",
   "metadata": {},
   "outputs": [
    {
     "data": {
      "text/latex": [
       "$\\displaystyle \\left[\\begin{matrix}1 & 1 & 1\\\\0 & - \\frac{\\sqrt{c_{2}}}{r} & \\frac{\\sqrt{c_{2}}}{r}\\\\0 & c_{2} & c_{2}\\end{matrix}\\right]$"
      ],
      "text/plain": [
       "Matrix([\n",
       "[1,           1,          1],\n",
       "[0, -sqrt(c2)/r, sqrt(c2)/r],\n",
       "[0,          c2,         c2]])"
      ]
     },
     "execution_count": 5,
     "metadata": {},
     "output_type": "execute_result"
    }
   ],
   "source": [
    "rf"
   ]
  },
  {
   "cell_type": "code",
   "execution_count": 6,
   "id": "ebcdc157",
   "metadata": {},
   "outputs": [
    {
     "data": {
      "text/latex": [
       "$\\displaystyle \\left[\\begin{matrix}1 & 0 & - \\frac{1}{c_{2}}\\\\0 & - \\frac{r}{2 \\sqrt{c_{2}}} & \\frac{1}{2 c_{2}}\\\\0 & \\frac{r}{2 \\sqrt{c_{2}}} & \\frac{1}{2 c_{2}}\\end{matrix}\\right]$"
      ],
      "text/plain": [
       "Matrix([\n",
       "[1,               0,    -1/c2],\n",
       "[0, -r/(2*sqrt(c2)), 1/(2*c2)],\n",
       "[0,  r/(2*sqrt(c2)), 1/(2*c2)]])"
      ]
     },
     "execution_count": 6,
     "metadata": {},
     "output_type": "execute_result"
    }
   ],
   "source": [
    "lff = rf.inverse()\n",
    "lff"
   ]
  },
  {
   "cell_type": "code",
   "execution_count": 7,
   "id": "ce40ea67",
   "metadata": {},
   "outputs": [
    {
     "data": {
      "text/latex": [
       "$\\displaystyle \\left[\\begin{matrix}u & 0 & 0\\\\0 & - \\sqrt{c_{2}} + u & 0\\\\0 & 0 & \\sqrt{c_{2}} + u\\end{matrix}\\right]$"
      ],
      "text/plain": [
       "Matrix([\n",
       "[u,             0,            0],\n",
       "[0, -sqrt(c2) + u,            0],\n",
       "[0,             0, sqrt(c2) + u]])"
      ]
     },
     "execution_count": 7,
     "metadata": {},
     "output_type": "execute_result"
    }
   ],
   "source": [
    "simplify(lff*A*rf)"
   ]
  },
  {
   "cell_type": "code",
   "execution_count": 8,
   "id": "a2f56523",
   "metadata": {},
   "outputs": [],
   "source": [
    "v0=symbols('v0')\n",
    "v1=symbols('v1')\n",
    "v2=symbols('v2')"
   ]
  },
  {
   "cell_type": "code",
   "execution_count": 9,
   "id": "b1b73d91",
   "metadata": {},
   "outputs": [],
   "source": [
    "v=Matrix([v0,v1,v2])"
   ]
  },
  {
   "cell_type": "code",
   "execution_count": 13,
   "id": "f31fbefa",
   "metadata": {},
   "outputs": [
    {
     "data": {
      "text/latex": [
       "$\\displaystyle \\left[\\begin{matrix}v_{0} - \\frac{v_{2}}{c_{2}}\\\\\\frac{v_{2}}{2 c_{2}} - \\frac{r v_{1}}{2 \\sqrt{c_{2}}}\\\\\\frac{v_{2}}{2 c_{2}} + \\frac{r v_{1}}{2 \\sqrt{c_{2}}}\\end{matrix}\\right]$"
      ],
      "text/plain": [
       "Matrix([\n",
       "[                   v0 - v2/c2],\n",
       "[v2/(2*c2) - r*v1/(2*sqrt(c2))],\n",
       "[v2/(2*c2) + r*v1/(2*sqrt(c2))]])"
      ]
     },
     "execution_count": 13,
     "metadata": {},
     "output_type": "execute_result"
    }
   ],
   "source": [
    "transform = lff*v\n",
    "transform"
   ]
  },
  {
   "cell_type": "code",
   "execution_count": 14,
   "id": "bd96fd7c",
   "metadata": {},
   "outputs": [
    {
     "data": {
      "text/plain": [
       "'Matrix([[v0 - v2/c2], [v2/(2*c2) - r*v1/(2*sqrt(c2))], [v2/(2*c2) + r*v1/(2*sqrt(c2))]])'"
      ]
     },
     "execution_count": 14,
     "metadata": {},
     "output_type": "execute_result"
    }
   ],
   "source": [
    "str(transform)"
   ]
  },
  {
   "cell_type": "code",
   "execution_count": null,
   "id": "431dff6f",
   "metadata": {},
   "outputs": [],
   "source": []
  }
 ],
 "metadata": {
  "kernelspec": {
   "display_name": "Python 3 (ipykernel)",
   "language": "python",
   "name": "python3"
  },
  "language_info": {
   "codemirror_mode": {
    "name": "ipython",
    "version": 3
   },
   "file_extension": ".py",
   "mimetype": "text/x-python",
   "name": "python",
   "nbconvert_exporter": "python",
   "pygments_lexer": "ipython3",
   "version": "3.10.7"
  }
 },
 "nbformat": 4,
 "nbformat_minor": 5
}
